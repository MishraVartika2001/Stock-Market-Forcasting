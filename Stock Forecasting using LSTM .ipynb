{
 "cells": [
  {
   "cell_type": "markdown",
   "id": "6993ec02",
   "metadata": {},
   "source": [
    "# Step 1: Data Collection"
   ]
  },
  {
   "cell_type": "code",
   "execution_count": 1,
   "id": "c5703d84",
   "metadata": {},
   "outputs": [],
   "source": [
    "import pandas_datareader as pdr"
   ]
  },
  {
   "cell_type": "code",
   "execution_count": 2,
   "id": "0ca8c99f",
   "metadata": {},
   "outputs": [
    {
     "name": "stderr",
     "output_type": "stream",
     "text": [
      "C:\\Users\\DELL\\AppData\\Roaming\\Python\\Python311\\site-packages\\pandas_datareader\\tiingo.py:234: FutureWarning: In a future version of pandas all arguments of concat except for the argument 'objs' will be keyword-only.\n",
      "  return pd.concat(dfs, self._concat_axis)\n"
     ]
    }
   ],
   "source": [
    "key=\"f15f38269f3d0b5b4eb89da55ae0890c311047c6\"\n",
    "df = pdr.get_data_tiingo('TCS', api_key=key)"
   ]
  },
  {
   "cell_type": "code",
   "execution_count": 3,
   "id": "3a802847",
   "metadata": {},
   "outputs": [],
   "source": [
    "df.to_csv('TCS.csv')"
   ]
  },
  {
   "cell_type": "code",
   "execution_count": 4,
   "id": "3a39d4df",
   "metadata": {},
   "outputs": [],
   "source": [
    "import pandas as pd\n",
    "import numpy as np"
   ]
  },
  {
   "cell_type": "code",
   "execution_count": 5,
   "id": "908c1088",
   "metadata": {},
   "outputs": [
    {
     "data": {
      "text/html": [
       "<div>\n",
       "<style scoped>\n",
       "    .dataframe tbody tr th:only-of-type {\n",
       "        vertical-align: middle;\n",
       "    }\n",
       "\n",
       "    .dataframe tbody tr th {\n",
       "        vertical-align: top;\n",
       "    }\n",
       "\n",
       "    .dataframe thead th {\n",
       "        text-align: right;\n",
       "    }\n",
       "</style>\n",
       "<table border=\"1\" class=\"dataframe\">\n",
       "  <thead>\n",
       "    <tr style=\"text-align: right;\">\n",
       "      <th></th>\n",
       "      <th>symbol</th>\n",
       "      <th>date</th>\n",
       "      <th>close</th>\n",
       "      <th>high</th>\n",
       "      <th>low</th>\n",
       "      <th>open</th>\n",
       "      <th>volume</th>\n",
       "      <th>adjClose</th>\n",
       "      <th>adjHigh</th>\n",
       "      <th>adjLow</th>\n",
       "      <th>adjOpen</th>\n",
       "      <th>adjVolume</th>\n",
       "      <th>divCash</th>\n",
       "      <th>splitFactor</th>\n",
       "    </tr>\n",
       "  </thead>\n",
       "  <tbody>\n",
       "    <tr>\n",
       "      <th>0</th>\n",
       "      <td>TCS</td>\n",
       "      <td>2018-11-09 00:00:00+00:00</td>\n",
       "      <td>6.08</td>\n",
       "      <td>6.3802</td>\n",
       "      <td>6.025</td>\n",
       "      <td>6.33</td>\n",
       "      <td>403748</td>\n",
       "      <td>5.720338</td>\n",
       "      <td>6.002780</td>\n",
       "      <td>5.668592</td>\n",
       "      <td>5.955549</td>\n",
       "      <td>403748</td>\n",
       "      <td>0.0</td>\n",
       "      <td>1.0</td>\n",
       "    </tr>\n",
       "    <tr>\n",
       "      <th>1</th>\n",
       "      <td>TCS</td>\n",
       "      <td>2018-11-12 00:00:00+00:00</td>\n",
       "      <td>6.14</td>\n",
       "      <td>6.2200</td>\n",
       "      <td>5.980</td>\n",
       "      <td>6.02</td>\n",
       "      <td>218818</td>\n",
       "      <td>5.776789</td>\n",
       "      <td>5.852056</td>\n",
       "      <td>5.626254</td>\n",
       "      <td>5.663887</td>\n",
       "      <td>218818</td>\n",
       "      <td>0.0</td>\n",
       "      <td>1.0</td>\n",
       "    </tr>\n",
       "    <tr>\n",
       "      <th>2</th>\n",
       "      <td>TCS</td>\n",
       "      <td>2018-11-13 00:00:00+00:00</td>\n",
       "      <td>5.93</td>\n",
       "      <td>6.1400</td>\n",
       "      <td>5.820</td>\n",
       "      <td>6.14</td>\n",
       "      <td>314338</td>\n",
       "      <td>5.579211</td>\n",
       "      <td>5.776789</td>\n",
       "      <td>5.475718</td>\n",
       "      <td>5.776789</td>\n",
       "      <td>314338</td>\n",
       "      <td>0.0</td>\n",
       "      <td>1.0</td>\n",
       "    </tr>\n",
       "    <tr>\n",
       "      <th>3</th>\n",
       "      <td>TCS</td>\n",
       "      <td>2018-11-14 00:00:00+00:00</td>\n",
       "      <td>5.92</td>\n",
       "      <td>6.1300</td>\n",
       "      <td>5.860</td>\n",
       "      <td>6.04</td>\n",
       "      <td>219525</td>\n",
       "      <td>5.569803</td>\n",
       "      <td>5.767380</td>\n",
       "      <td>5.513352</td>\n",
       "      <td>5.682704</td>\n",
       "      <td>219525</td>\n",
       "      <td>0.0</td>\n",
       "      <td>1.0</td>\n",
       "    </tr>\n",
       "    <tr>\n",
       "      <th>4</th>\n",
       "      <td>TCS</td>\n",
       "      <td>2018-11-15 00:00:00+00:00</td>\n",
       "      <td>5.99</td>\n",
       "      <td>6.0000</td>\n",
       "      <td>5.780</td>\n",
       "      <td>5.87</td>\n",
       "      <td>185725</td>\n",
       "      <td>5.635662</td>\n",
       "      <td>5.645070</td>\n",
       "      <td>5.438085</td>\n",
       "      <td>5.522761</td>\n",
       "      <td>185725</td>\n",
       "      <td>0.0</td>\n",
       "      <td>1.0</td>\n",
       "    </tr>\n",
       "  </tbody>\n",
       "</table>\n",
       "</div>"
      ],
      "text/plain": [
       "  symbol                       date  close    high    low  open  volume  \\\n",
       "0    TCS  2018-11-09 00:00:00+00:00   6.08  6.3802  6.025  6.33  403748   \n",
       "1    TCS  2018-11-12 00:00:00+00:00   6.14  6.2200  5.980  6.02  218818   \n",
       "2    TCS  2018-11-13 00:00:00+00:00   5.93  6.1400  5.820  6.14  314338   \n",
       "3    TCS  2018-11-14 00:00:00+00:00   5.92  6.1300  5.860  6.04  219525   \n",
       "4    TCS  2018-11-15 00:00:00+00:00   5.99  6.0000  5.780  5.87  185725   \n",
       "\n",
       "   adjClose   adjHigh    adjLow   adjOpen  adjVolume  divCash  splitFactor  \n",
       "0  5.720338  6.002780  5.668592  5.955549     403748      0.0          1.0  \n",
       "1  5.776789  5.852056  5.626254  5.663887     218818      0.0          1.0  \n",
       "2  5.579211  5.776789  5.475718  5.776789     314338      0.0          1.0  \n",
       "3  5.569803  5.767380  5.513352  5.682704     219525      0.0          1.0  \n",
       "4  5.635662  5.645070  5.438085  5.522761     185725      0.0          1.0  "
      ]
     },
     "execution_count": 5,
     "metadata": {},
     "output_type": "execute_result"
    }
   ],
   "source": [
    "df=pd.read_csv('TCS.csv')\n",
    "df.head()"
   ]
  },
  {
   "cell_type": "code",
   "execution_count": 6,
   "id": "4163341e",
   "metadata": {},
   "outputs": [
    {
     "data": {
      "text/plain": [
       "1256"
      ]
     },
     "execution_count": 6,
     "metadata": {},
     "output_type": "execute_result"
    }
   ],
   "source": [
    "len(df)"
   ]
  },
  {
   "cell_type": "code",
   "execution_count": 7,
   "id": "ca2b7210",
   "metadata": {},
   "outputs": [
    {
     "data": {
      "text/html": [
       "<div>\n",
       "<style scoped>\n",
       "    .dataframe tbody tr th:only-of-type {\n",
       "        vertical-align: middle;\n",
       "    }\n",
       "\n",
       "    .dataframe tbody tr th {\n",
       "        vertical-align: top;\n",
       "    }\n",
       "\n",
       "    .dataframe thead th {\n",
       "        text-align: right;\n",
       "    }\n",
       "</style>\n",
       "<table border=\"1\" class=\"dataframe\">\n",
       "  <thead>\n",
       "    <tr style=\"text-align: right;\">\n",
       "      <th></th>\n",
       "      <th>symbol</th>\n",
       "      <th>date</th>\n",
       "      <th>close</th>\n",
       "      <th>high</th>\n",
       "      <th>low</th>\n",
       "      <th>open</th>\n",
       "      <th>volume</th>\n",
       "      <th>adjClose</th>\n",
       "      <th>adjHigh</th>\n",
       "      <th>adjLow</th>\n",
       "      <th>adjOpen</th>\n",
       "      <th>adjVolume</th>\n",
       "      <th>divCash</th>\n",
       "      <th>splitFactor</th>\n",
       "    </tr>\n",
       "  </thead>\n",
       "  <tbody>\n",
       "    <tr>\n",
       "      <th>1251</th>\n",
       "      <td>TCS</td>\n",
       "      <td>2023-11-01 00:00:00+00:00</td>\n",
       "      <td>1.76</td>\n",
       "      <td>1.9400</td>\n",
       "      <td>1.5618</td>\n",
       "      <td>1.94</td>\n",
       "      <td>404608</td>\n",
       "      <td>1.76</td>\n",
       "      <td>1.9400</td>\n",
       "      <td>1.5618</td>\n",
       "      <td>1.94</td>\n",
       "      <td>404608</td>\n",
       "      <td>0.0</td>\n",
       "      <td>1.0</td>\n",
       "    </tr>\n",
       "    <tr>\n",
       "      <th>1252</th>\n",
       "      <td>TCS</td>\n",
       "      <td>2023-11-02 00:00:00+00:00</td>\n",
       "      <td>1.81</td>\n",
       "      <td>1.8350</td>\n",
       "      <td>1.7288</td>\n",
       "      <td>1.76</td>\n",
       "      <td>201755</td>\n",
       "      <td>1.81</td>\n",
       "      <td>1.8350</td>\n",
       "      <td>1.7288</td>\n",
       "      <td>1.76</td>\n",
       "      <td>201755</td>\n",
       "      <td>0.0</td>\n",
       "      <td>1.0</td>\n",
       "    </tr>\n",
       "    <tr>\n",
       "      <th>1253</th>\n",
       "      <td>TCS</td>\n",
       "      <td>2023-11-03 00:00:00+00:00</td>\n",
       "      <td>1.91</td>\n",
       "      <td>2.0000</td>\n",
       "      <td>1.8200</td>\n",
       "      <td>1.82</td>\n",
       "      <td>289213</td>\n",
       "      <td>1.91</td>\n",
       "      <td>2.0000</td>\n",
       "      <td>1.8200</td>\n",
       "      <td>1.82</td>\n",
       "      <td>289213</td>\n",
       "      <td>0.0</td>\n",
       "      <td>1.0</td>\n",
       "    </tr>\n",
       "    <tr>\n",
       "      <th>1254</th>\n",
       "      <td>TCS</td>\n",
       "      <td>2023-11-06 00:00:00+00:00</td>\n",
       "      <td>1.91</td>\n",
       "      <td>1.9200</td>\n",
       "      <td>1.8450</td>\n",
       "      <td>1.89</td>\n",
       "      <td>110042</td>\n",
       "      <td>1.91</td>\n",
       "      <td>1.9200</td>\n",
       "      <td>1.8450</td>\n",
       "      <td>1.89</td>\n",
       "      <td>110042</td>\n",
       "      <td>0.0</td>\n",
       "      <td>1.0</td>\n",
       "    </tr>\n",
       "    <tr>\n",
       "      <th>1255</th>\n",
       "      <td>TCS</td>\n",
       "      <td>2023-11-07 00:00:00+00:00</td>\n",
       "      <td>1.89</td>\n",
       "      <td>1.9372</td>\n",
       "      <td>1.8700</td>\n",
       "      <td>1.88</td>\n",
       "      <td>113552</td>\n",
       "      <td>1.89</td>\n",
       "      <td>1.9372</td>\n",
       "      <td>1.8700</td>\n",
       "      <td>1.88</td>\n",
       "      <td>113552</td>\n",
       "      <td>0.0</td>\n",
       "      <td>1.0</td>\n",
       "    </tr>\n",
       "  </tbody>\n",
       "</table>\n",
       "</div>"
      ],
      "text/plain": [
       "     symbol                       date  close    high     low  open  volume  \\\n",
       "1251    TCS  2023-11-01 00:00:00+00:00   1.76  1.9400  1.5618  1.94  404608   \n",
       "1252    TCS  2023-11-02 00:00:00+00:00   1.81  1.8350  1.7288  1.76  201755   \n",
       "1253    TCS  2023-11-03 00:00:00+00:00   1.91  2.0000  1.8200  1.82  289213   \n",
       "1254    TCS  2023-11-06 00:00:00+00:00   1.91  1.9200  1.8450  1.89  110042   \n",
       "1255    TCS  2023-11-07 00:00:00+00:00   1.89  1.9372  1.8700  1.88  113552   \n",
       "\n",
       "      adjClose  adjHigh  adjLow  adjOpen  adjVolume  divCash  splitFactor  \n",
       "1251      1.76   1.9400  1.5618     1.94     404608      0.0          1.0  \n",
       "1252      1.81   1.8350  1.7288     1.76     201755      0.0          1.0  \n",
       "1253      1.91   2.0000  1.8200     1.82     289213      0.0          1.0  \n",
       "1254      1.91   1.9200  1.8450     1.89     110042      0.0          1.0  \n",
       "1255      1.89   1.9372  1.8700     1.88     113552      0.0          1.0  "
      ]
     },
     "execution_count": 7,
     "metadata": {},
     "output_type": "execute_result"
    }
   ],
   "source": [
    "df.tail()"
   ]
  },
  {
   "cell_type": "code",
   "execution_count": 8,
   "id": "35a56191",
   "metadata": {},
   "outputs": [
    {
     "data": {
      "text/plain": [
       "0       6.08\n",
       "1       6.14\n",
       "2       5.93\n",
       "3       5.92\n",
       "4       5.99\n",
       "        ... \n",
       "1251    1.76\n",
       "1252    1.81\n",
       "1253    1.91\n",
       "1254    1.91\n",
       "1255    1.89\n",
       "Name: close, Length: 1256, dtype: float64"
      ]
     },
     "execution_count": 8,
     "metadata": {},
     "output_type": "execute_result"
    }
   ],
   "source": [
    "df=df.reset_index()['close']\n",
    "df"
   ]
  },
  {
   "cell_type": "code",
   "execution_count": 9,
   "id": "9df0b38e",
   "metadata": {},
   "outputs": [
    {
     "data": {
      "text/plain": [
       "[<matplotlib.lines.Line2D at 0x1b48b20f950>]"
      ]
     },
     "execution_count": 9,
     "metadata": {},
     "output_type": "execute_result"
    },
    {
     "data": {
      "image/png": "[encoded data removed]",
      "text/plain": [
       "<Figure size 640x480 with 1 Axes>"
      ]
     },
     "metadata": {},
     "output_type": "display_data"
    }
   ],
   "source": [
    "import matplotlib.pyplot as plt\n",
    "plt.plot(df)"
   ]
  },
  {
   "cell_type": "code",
   "execution_count": 10,
   "id": "f5165084",
   "metadata": {},
   "outputs": [],
   "source": [
    "from sklearn.preprocessing import MinMaxScaler\n",
    "scaler=MinMaxScaler(feature_range=(0,1))\n",
    "df1=scaler.fit_transform(np.array(df).reshape(-1,1))"
   ]
  },
  {
   "cell_type": "code",
   "execution_count": 11,
   "id": "c07577ea",
   "metadata": {},
   "outputs": [],
   "source": [
    "##splitting dataset into train and test split\n",
    "training_size=int(len(df1)*0.65)\n",
    "test_size=len(df1)-training_size\n",
    "train_data,test_data=df1[0:training_size,:],df1[training_size:len(df1),:1]"
   ]
  },
  {
   "cell_type": "code",
   "execution_count": 15,
   "id": "6303d5f4",
   "metadata": {},
   "outputs": [
    {
     "name": "stdout",
     "output_type": "stream",
     "text": [
      "816\n",
      "440\n"
     ]
    }
   ],
   "source": [
    "print(len(train_data))\n",
    "print(len(test_data))"
   ]
  },
  {
   "cell_type": "code",
   "execution_count": 17,
   "id": "a1c0cd52",
   "metadata": {},
   "outputs": [],
   "source": [
    "import numpy\n",
    "# convert an array of values into a dataset matrix\n",
    "def create_dataset(dataset, time_step=1):\n",
    "    dataX, dataY = [], []\n",
    "    for i in range(len(dataset)-time_step-1):\n",
    "        a = dataset[i:(i+time_step), 0]   ###i=0, 0,1,2,3-----99   100 \n",
    "        dataX.append(a)\n",
    "        dataY.append(dataset[i + time_step, 0])\n",
    "    return numpy.array(dataX), numpy.array(dataY)"
   ]
  },
  {
   "cell_type": "code",
   "execution_count": 176,
   "id": "adcf8137",
   "metadata": {},
   "outputs": [],
   "source": [
    "time_step = 100\n",
    "X_train, Y_train = create_dataset(train_data, time_step)\n",
    "X_test, Y_test = create_dataset(test_data, time_step)"
   ]
  },
  {
   "cell_type": "code",
   "execution_count": 59,
   "id": "ffacb52d",
   "metadata": {},
   "outputs": [
    {
     "name": "stdout",
     "output_type": "stream",
     "text": [
      "(715,)\n"
     ]
    }
   ],
   "source": [
    "print(Y_train.shape)"
   ]
  },
  {
   "cell_type": "markdown",
   "id": "413fa1b1",
   "metadata": {},
   "source": [
    "# Step 2: LSTM "
   ]
  },
  {
   "cell_type": "code",
   "execution_count": 28,
   "id": "410052f7",
   "metadata": {},
   "outputs": [],
   "source": [
    "import torch \n",
    "import torch.nn as nn\n",
    "import torch.nn.functional as F\n",
    "from torch.optim import Adam "
   ]
  },
  {
   "cell_type": "code",
   "execution_count": 29,
   "id": "4e909993",
   "metadata": {},
   "outputs": [],
   "source": [
    "import lightning as L\n",
    "from torch.utils.data import TensorDataset, DataLoader"
   ]
  },
  {
   "cell_type": "code",
   "execution_count": 106,
   "id": "83031625",
   "metadata": {},
   "outputs": [],
   "source": [
    "class LightningLSTM(L.LightningModule):\n",
    "\n",
    "    def __init__(self): # __init__() is the class constructor function, and we use it to initialize the Weights and Biases.\n",
    "        \n",
    "        super().__init__() # initialize an instance of the parent class, LightningModule.\n",
    "    \n",
    "        self.lstm = nn.LSTM(input_size=1, hidden_size=1) \n",
    "        \n",
    "\n",
    "    def forward(self, input):\n",
    "        ## transpose the input vector\n",
    "        input_trans = input.view(len(input), 1)\n",
    "        \n",
    "        lstm_out, temp = self.lstm(input_trans)\n",
    "        \n",
    "        prediction = lstm_out[-1] \n",
    "        return prediction\n",
    "        \n",
    "        \n",
    "    def configure_optimizers(self): # this configures the optimizer we want to use for backpropagation.\n",
    "        return Adam(self.parameters(), lr=0.0001) ## we'll just go ahead and set the learning rate to 0.1\n",
    "\n",
    "    \n",
    "    def training_step(self, batch, batch_idx): # take a step during gradient descent.\n",
    "        input_i, label_i = batch # collect input\n",
    "        output_i = self.forward(input_i[0]) # run input through the neural network\n",
    "        loss = (output_i - label_i)**2 ## loss = squared residual\n",
    "        \n",
    "        self.log(\"train_loss\", loss)\n",
    "        \n",
    "        self.log(\"output\", output_i)\n",
    "        \n",
    "        return loss"
   ]
  },
  {
   "cell_type": "markdown",
   "id": "3604b83c",
   "metadata": {},
   "source": [
    "# Step 3: Model Training "
   ]
  },
  {
   "cell_type": "code",
   "execution_count": 107,
   "id": "045c21f2",
   "metadata": {},
   "outputs": [
    {
     "name": "stdout",
     "output_type": "stream",
     "text": [
      "<class 'float'>\n"
     ]
    }
   ],
   "source": [
    "inputs = torch.tensor(X_train.tolist())\n",
    "labels = torch.tensor(Y_train.tolist())\n",
    "\n",
    "#x_train = [[0., 0.5, 0.25, 1.], [0.5, 0.25, 1., 0.5]]\n",
    "#y_train = [0.5, 1.]\n",
    "\n",
    "#inputs = torch.tensor(x_train)\n",
    "#labels = torch.tensor(y_train)\n",
    "\n",
    "print(type(x_train[0][0]))\n",
    "\n",
    "dataset = TensorDataset(inputs, labels) \n",
    "dataloader = DataLoader(dataset)"
   ]
  },
  {
   "cell_type": "code",
   "execution_count": 108,
   "id": "95652a60",
   "metadata": {},
   "outputs": [
    {
     "name": "stderr",
     "output_type": "stream",
     "text": [
      "GPU available: False, used: False\n",
      "TPU available: False, using: 0 TPU cores\n",
      "IPU available: False, using: 0 IPUs\n",
      "HPU available: False, using: 0 HPUs\n",
      "\n",
      "  | Name | Type | Params\n",
      "------------------------------\n",
      "0 | lstm | LSTM | 16    \n",
      "------------------------------\n",
      "16        Trainable params\n",
      "0         Non-trainable params\n",
      "16        Total params\n",
      "0.000     Total estimated model params size (MB)\n"
     ]
    },
    {
     "data": {
      "application/vnd.jupyter.widget-view+json": {
       "model_id": "146e9f1efcb141828430b022432fb393",
       "version_major": 2,
       "version_minor": 0
      },
      "text/plain": [
       "Training: |                                                                                      | 0/? [00:00<…"
      ]
     },
     "metadata": {},
     "output_type": "display_data"
    },
    {
     "name": "stderr",
     "output_type": "stream",
     "text": [
      "`Trainer.fit` stopped: `max_epochs=100` reached.\n"
     ]
    }
   ],
   "source": [
    "model = LightningLSTM()\n",
    "\n",
    "trainer = L.Trainer(max_epochs=100, log_every_n_steps=2)\n",
    "trainer.fit(model, train_dataloaders=dataloader)"
   ]
  },
  {
   "cell_type": "code",
   "execution_count": 165,
   "id": "1d62b454",
   "metadata": {},
   "outputs": [],
   "source": [
    "def prediction(input):\n",
    "    predicted_values = []\n",
    "    for i in range(len(input)):\n",
    "        x = model.forward(torch.tensor(input[i]).detach())\n",
    "        predicted_values.append((x.detach()).item())\n",
    "    return predicted_values"
   ]
  },
  {
   "cell_type": "code",
   "execution_count": 166,
   "id": "07c84169",
   "metadata": {},
   "outputs": [],
   "source": [
    "def mean_square_error(predicted_values, actual_values):\n",
    "    \n",
    "    Len = len(actual_values)\n",
    "    mse = 0\n",
    "    for i in range(Len):\n",
    "        mse = (actual_values[i] - predicted_values[i])**2\n",
    "            \n",
    "    return mse"
   ]
  },
  {
   "cell_type": "code",
   "execution_count": 177,
   "id": "ee5d5830",
   "metadata": {},
   "outputs": [],
   "source": [
    "predicted_values = prediction(X_test.tolist())"
   ]
  },
  {
   "cell_type": "code",
   "execution_count": 178,
   "id": "382cca78",
   "metadata": {},
   "outputs": [
    {
     "name": "stdout",
     "output_type": "stream",
     "text": [
      "0.0028876764196936544\n"
     ]
    }
   ],
   "source": [
    "print(mean_square_error(predicted_values, Y_test))"
   ]
  },
  {
   "cell_type": "code",
   "execution_count": 179,
   "id": "2c0b2e7e",
   "metadata": {},
   "outputs": [],
   "source": [
    "predicted_values=scaler.inverse_transform(np.array(predicted_values).reshape(-1, 1))\n",
    "Y_test=scaler.inverse_transform(np.array(Y_test).reshape(-1, 1))"
   ]
  },
  {
   "cell_type": "markdown",
   "id": "9d274bee",
   "metadata": {},
   "source": [
    "# Plot of Predicted values and Actual values"
   ]
  },
  {
   "cell_type": "code",
   "execution_count": 181,
   "id": "d317a898",
   "metadata": {},
   "outputs": [
    {
     "data": {
      "image/png": "[encoded data removed]",
      "text/plain": [
       "<Figure size 640x480 with 1 Axes>"
      ]
     },
     "metadata": {},
     "output_type": "display_data"
    }
   ],
   "source": [
    "x = np.linspace(0, 1, 339)\n",
    "\n",
    "# Plot the first set of data in blue\n",
    "plt.plot(x, Y_test, label='Actual Value', color='blue')\n",
    "\n",
    "# Plot the second set of data in red\n",
    "plt.plot(x, predicted_values, label='Predicted Value', color='red')\n",
    "\n",
    "# Add labels and a legend\n",
    "plt.xlabel('X-axis')\n",
    "plt.ylabel('Y-axis')\n",
    "plt.legend()\n",
    "\n",
    "# Display the plot\n",
    "plt.show()"
   ]
  },
  {
   "cell_type": "code",
   "execution_count": null,
   "id": "ed032408",
   "metadata": {},
   "outputs": [],
   "source": []
  }
 ],
 "metadata": {
  "kernelspec": {
   "display_name": "Python 3 (ipykernel)",
   "language": "python",
   "name": "python3"
  },
  "language_info": {
   "codemirror_mode": {
    "name": "ipython",
    "version": 3
   },
   "file_extension": ".py",
   "mimetype": "text/x-python",
   "name": "python",
   "nbconvert_exporter": "python",
   "pygments_lexer": "ipython3",
   "version": "3.11.4"
  }
 },
 "nbformat": 4,
 "nbformat_minor": 5
}
